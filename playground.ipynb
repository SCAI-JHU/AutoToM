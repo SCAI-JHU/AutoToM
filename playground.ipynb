{
 "cells": [
  {
   "cell_type": "code",
   "execution_count": 1,
   "metadata": {},
   "outputs": [],
   "source": [
    "import os\n",
    "os.chdir(\"model\")"
   ]
  },
  {
   "cell_type": "code",
   "execution_count": 2,
   "metadata": {},
   "outputs": [],
   "source": [
    "# Example usage for customized questions\n",
    "story = \"\"\"1 Ella entered the master_bedroom.\n",
    "2 Ava entered the master_bedroom.\n",
    "3 The onion is in the envelope.\n",
    "4 The envelope is in the master_bedroom.\n",
    "5 Ella exited the master_bedroom.\n",
    "6 Ava moved the onion to the box.\n",
    "7 The box is in the master_bedroom.\n",
    "8 Ava exited the master_bedroom.\n",
    "9 Ella entered the hallway.\"\"\"\n",
    "question = \"Where will Ella look for the onion?\"\n",
    "choices = [\"envelope\", \"box\"] # Correct answer is envelope.\n",
    "dataset_name = \"customize\"\n",
    "episode_name = \"customize_0\"\n",
    "verbose = False"
   ]
  },
  {
   "cell_type": "code",
   "execution_count": null,
   "metadata": {},
   "outputs": [
    {
     "name": "stdout",
     "output_type": "stream",
     "text": [
      "inf_var_name Belief\n",
      "No files found matching episode_name: customize_0, ../results/middle/\n"
     ]
    }
   ],
   "source": [
    "from ProbSolver import ProblemSolver, argmax, argmin\n",
    "solver = ProblemSolver(\n",
    "        story=story,\n",
    "        question=question,\n",
    "        choices=choices,\n",
    "        K=1,\n",
    "        assigned_model=[],\n",
    "        model_name=\"automated\",\n",
    "        episode_name=episode_name,\n",
    "        llm=\"gpt-4o\",\n",
    "        verbose=verbose,\n",
    "        dataset_name=dataset_name,\n",
    "        hypo_method=\"guided\",\n",
    "        nested=False,\n",
    "        video_id=None,\n",
    "        answerfunc=argmax,\n",
    "        back_inference=True,\n",
    "        reduce_hypotheses=True,\n",
    "        precomputed_states=None,\n",
    "        precomputed_actions=None,\n",
    "        prev_hyp=None,\n",
    "        no_model_adjustment=False,\n",
    "        recursion_depth=None\n",
    "    )\n",
    "\n",
    "final_probs, model_record = solver.solve()"
   ]
  },
  {
   "cell_type": "code",
   "execution_count": null,
   "metadata": {},
   "outputs": [
    {
     "name": "stdout",
     "output_type": "stream",
     "text": [
      "['envelope', 'box'] [0.6512446961190071, 0.3487553038809928]\n"
     ]
    }
   ],
   "source": [
    "print(choices, final_probs)"
   ]
  }
 ],
 "metadata": {
  "kernelspec": {
   "display_name": "py310",
   "language": "python",
   "name": "python3"
  },
  "language_info": {
   "codemirror_mode": {
    "name": "ipython",
    "version": 3
   },
   "file_extension": ".py",
   "mimetype": "text/x-python",
   "name": "python",
   "nbconvert_exporter": "python",
   "pygments_lexer": "ipython3",
   "version": "3.10.9"
  }
 },
 "nbformat": 4,
 "nbformat_minor": 2
}
